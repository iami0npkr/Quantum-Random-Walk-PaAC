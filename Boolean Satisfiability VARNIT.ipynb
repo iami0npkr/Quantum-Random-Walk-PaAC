{
 "cells": [
  {
   "cell_type": "markdown",
   "id": "e650e8b6",
   "metadata": {},
   "source": [
    "# Solving Boolean Satisfiability Problems using Grover's Algorithm"
   ]
  },
  {
   "cell_type": "markdown",
   "id": "c6fe302e",
   "metadata": {},
   "source": [
    "## 1. Introduction"
   ]
  },
  {
   "cell_type": "markdown",
   "id": "0919a36f",
   "metadata": {},
   "source": [
    "The Boolean satisfiability problem, often referred to as SAT, is about finding a solution to a logical expression. The expression is built using variables, logical operators (like AND, OR, NOT), and it evaluates to either TRUE or FALSE. The goal is to determine if there is any combination of true and false values assigned to the variables that makes the entire expression true. If such a combination exists, the expression is satisfiable; otherwise, it is unsatisfiable. In summary, SAT is the quest to figure out if a logical statement can ever be true based on different assignments of true and false values to its variables."
   ]
  },
  {
   "cell_type": "markdown",
   "id": "80b1ab24",
   "metadata": {},
   "source": [
    "In this section, we will look at solving a specific Boolean satisfiability problem (3-Satisfiability) using Grover’s algorithm, with the aforementioned run time of $O(\\sqrt{N})$"
   ]
  },
  {
   "cell_type": "markdown",
   "id": "ca546777",
   "metadata": {},
   "source": [
    "## 2. 3-Satisfiability Problem "
   ]
  },
  {
   "cell_type": "markdown",
   "id": "2f5f1994",
   "metadata": {},
   "source": [
    " Let us consider a Boolean function $f$ with three Boolean variables $v_1,v_2,v_3$ as below:\n",
    "\n",
    "\n",
    "\n",
    "$$f(v_1,v_2,v_3) = (\\neg v_1 \\vee \\neg v_2 \\vee \\neg v_3) \\wedge (v_1 \\vee \\neg v_2 \\vee v_3) \\wedge (v_1 \\vee v_2 \\vee \\neg v_3) \\wedge (v_1 \\vee \\neg v_2 \\vee \\neg v_3) \\wedge (\\neg v_1 \\vee  v_2 \\vee v_3)\\wedge (\\neg v_1 \\vee \\neg v_2 \\vee v_3)$$\n",
    "First we need to understand the input DIMACS CNF format that Qiskit Aqua uses for such problem, which looks like the following for the problem:\n",
    "~~~\n",
    "c example DIMACS CNF 3-SAT\n",
    "p cnf 3 6\n",
    "-1 -2 -3 0\n",
    "1 -2 3 0\n",
    "1 2 -3 0\n",
    "1 -2 -3 0\n",
    "-1 2 3 0\n",
    "-1 -2 3 0\n",
    "~~~\n",
    "- Lines that start with `c` are comments\n",
    "    - eg. `c example DIMACS CNF 3-SAT`\n",
    "- The first non-comment line needs to be of the form `p cnf nbvar nbclauses`, where\n",
    "  - `cnf` indicates that the input is in CNF format\n",
    "  - `nbvar` is the exact number of variables appearing in the file\n",
    "  - `nbclauses` is the exact number of clauses contained in the file\n",
    "  - eg. `p cnf 3 6`\n",
    "- Then there is a line for each clause, where \n",
    "  - each clause is a sequence of distinct non-null numbers between `-nbvar` and `nbvar` ending with `0` on the same line\n",
    "  - positive numbers denote the corresponding variables\n",
    "  - negative numbers denote the negations of the corresponding variables\n",
    "  - eg. `-1 2 3 0` corresponds to the clause $\\neg v_1 \\vee v_2 \\vee v_3$\n",
    "  \n"
   ]
  },
  {
   "cell_type": "markdown",
   "id": "b66ddd62",
   "metadata": {},
   "source": [
    "Now moving to the coading part, we will create oracle for Grover's algorithm.we use the LogicalExpressionOracle component provided by Qiskit which will create corresponding oracle circuit. "
   ]
  },
  {
   "cell_type": "code",
   "execution_count": 85,
   "id": "3d429fd4",
   "metadata": {},
   "outputs": [],
   "source": [
    "# Importing required libraries\n",
    "import numpy as np\n",
    "import pylab\n",
    "import qiskit_algorithms\n",
    "import tweedledum\n",
    "from qiskit import assemble\n",
    "from qiskit.visualization import plot_histogram\n",
    "from qiskit import Aer, transpile\n",
    "from qiskit.utils import QuantumInstance\n",
    "from qiskit.algorithms import Grover, AmplificationProblem\n",
    "from qiskit.circuit.library import PhaseOracle\n",
    "import qiskit.tools.jupyter"
   ]
  },
  {
   "cell_type": "markdown",
   "id": "04e5a6cc",
   "metadata": {},
   "source": [
    "We have a DIMACS file saved to the relative path `C:\\Users\\VARNIT GUPTA\\Desktop\\Quantum Random Walks\\c example DIMACS-CNF 3-SAT.dimacs.txt` which looks as follows:"
   ]
  },
  {
   "cell_type": "code",
   "execution_count": 86,
   "id": "bf3fd4d6",
   "metadata": {},
   "outputs": [
    {
     "name": "stdout",
     "output_type": "stream",
     "text": [
      "c example DIMACS-CNF 3-SAT\n",
      "p cnf 3 6\n",
      "-1 -2 -3 0\n",
      "1 -2 3 0\n",
      "1 2 -3 0\n",
      "1 -2 -3 0\n",
      "-1 2 3 0\n",
      "-1 -2 3 0\n"
     ]
    }
   ],
   "source": [
    "with open(r'C:\\Users\\VARNIT GUPTA\\Desktop\\Quantum Random Walks\\c example DIMACS-CNF 3-SAT.dimacs.txt', 'r') as f:\n",
    "    dimacs = f.read()\n",
    "print(dimacs)"
   ]
  },
  {
   "cell_type": "markdown",
   "id": "ca0c475d",
   "metadata": {},
   "source": [
    "In order to create oracle circuit from the file we can use `PhaseOracle`"
   ]
  },
  {
   "cell_type": "code",
   "execution_count": 87,
   "id": "36b5d3d1",
   "metadata": {},
   "outputs": [
    {
     "data": {
      "text/html": [
       "<pre style=\"word-wrap: normal;white-space: pre;background: #fff0;line-height: 1.1;font-family: &quot;Courier New&quot;,Courier,monospace\">                  \n",
       "q_0: ──────────■──\n",
       "               │  \n",
       "q_1: ──────o───o──\n",
       "     ┌───┐ │ ┌───┐\n",
       "q_2: ┤ X ├─■─┤ X ├\n",
       "     └───┘   └───┘</pre>"
      ],
      "text/plain": [
       "                  \n",
       "q_0: ──────────■──\n",
       "               │  \n",
       "q_1: ──────o───o──\n",
       "     ┌───┐ │ ┌───┐\n",
       "q_2: ┤ X ├─■─┤ X ├\n",
       "     └───┘   └───┘"
      ]
     },
     "execution_count": 87,
     "metadata": {},
     "output_type": "execute_result"
    }
   ],
   "source": [
    "oracle = PhaseOracle.from_dimacs_file(r'C:\\Users\\VARNIT GUPTA\\Desktop\\Quantum Random Walks\\c example DIMACS-CNF 3-SAT.dimacs.txt')\n",
    "oracle.draw()"
   ]
  },
  {
   "cell_type": "markdown",
   "id": "91c6b72c",
   "metadata": {},
   "source": [
    "Now, we have to define a function to check either the oracle is producing correct answer or not. The function will return `True` if it's a correct solution, or `False` otherwise."
   ]
  },
  {
   "cell_type": "code",
   "execution_count": 1,
   "id": "5a6f1eb6",
   "metadata": {},
   "outputs": [],
   "source": [
    "class Verifier():\n",
    "    \n",
    "    def __init__(self, dimacs_file):\n",
    "        with open(dimacs_file, 'r') as f:\n",
    "            self.dimacs = f.read()\n",
    "\n",
    "    def is_correct(self, guess):\n",
    "        \n",
    "        # Convert characters to bools & reverse\n",
    "        guess = [bool(int(x)) for x in guess][::-1]\n",
    "        for line in self.dimacs.split('\\n'):\n",
    "            line = line.strip(' 0')\n",
    "            clause_eval = False\n",
    "            for literal in line.split(' '):\n",
    "                if literal in ['p', 'c']:\n",
    "                    # line is not a clause\n",
    "                    clause_eval = True\n",
    "                    break\n",
    "                if '-' in literal:\n",
    "                    literal = literal.strip('-')\n",
    "                    lit_eval = not guess[int(literal)-1]\n",
    "                else:\n",
    "                    lit_eval = guess[int(literal)-1]\n",
    "                clause_eval |= lit_eval\n",
    "            if clause_eval is False:\n",
    "                return False\n",
    "        return True"
   ]
  },
  {
   "cell_type": "code",
   "execution_count": 89,
   "id": "4105d803",
   "metadata": {},
   "outputs": [
    {
     "data": {
      "text/plain": [
       "False"
      ]
     },
     "execution_count": 89,
     "metadata": {},
     "output_type": "execute_result"
    }
   ],
   "source": [
    "v = Verifier(r'C:\\Users\\VARNIT GUPTA\\Desktop\\Quantum Random Walks\\c example DIMACS-CNF 3-SAT.dimacs.txt')   \n",
    "v.is_correct('001')"
   ]
  },
  {
   "cell_type": "code",
   "execution_count": 90,
   "id": "09e28768",
   "metadata": {
    "scrolled": false
   },
   "outputs": [
    {
     "name": "stderr",
     "output_type": "stream",
     "text": [
      "C:\\Users\\VARNIT GUPTA\\AppData\\Local\\Temp\\ipykernel_19076\\2289216011.py:3: DeprecationWarning: The class ``qiskit.utils.quantum_instance.QuantumInstance`` is deprecated as of qiskit-terra 0.24.0. It will be removed no earlier than 3 months after the release date. For code migration guidelines, visit https://qisk.it/qi_migration.\n",
      "  quantum_instance = QuantumInstance(backend, shots=1024)\n",
      "C:\\Users\\VARNIT GUPTA\\AppData\\Local\\Temp\\ipykernel_19076\\2289216011.py:10: DeprecationWarning: ``qiskit.algorithms.amplitude_amplifiers.grover.Grover.__init__()``'s argument ``quantum_instance`` is deprecated as of qiskit-terra 0.24.0. It will be removed no earlier than 3 months after the release date. Instead, use the ``sampler`` argument. See https://qisk.it/algo_migration for a migration guide.\n",
      "  grover = Grover(quantum_instance=quantum_instance)\n"
     ]
    },
    {
     "data": {
      "text/plain": [
       "'101'"
      ]
     },
     "execution_count": 90,
     "metadata": {},
     "output_type": "execute_result"
    }
   ],
   "source": [
    "# Configure backend\n",
    "backend = Aer.get_backend('aer_simulator')\n",
    "quantum_instance = QuantumInstance(backend, shots=1024)\n",
    "\n",
    "# Create a new problem from the phase oracle and the\n",
    "# verification function\n",
    "problem = AmplificationProblem(oracle=oracle, is_good_state=v.is_correct)\n",
    "\n",
    "# Use Grover's algorithm to solve the problem\n",
    "grover = Grover(quantum_instance=quantum_instance)\n",
    "result = grover.amplify(problem)\n",
    "result.top_measurement"
   ]
  },
  {
   "cell_type": "markdown",
   "id": "30a5a3d8",
   "metadata": {},
   "source": [
    "Solution shown above is the most optimal solution as suggested by our model.\n",
    "To show complete measurement result we plot a histogram. It can be seen that the binary strings `000` and `101` corresponding to the three satisfying solutions all have high probabilities associated with them."
   ]
  },
  {
   "cell_type": "code",
   "execution_count": 91,
   "id": "1a907383",
   "metadata": {},
   "outputs": [
    {
     "data": {
      "image/png": "[encoded data removed]",
      "text/plain": [
       "<Figure size 700x500 with 1 Axes>"
      ]
     },
     "execution_count": 91,
     "metadata": {},
     "output_type": "execute_result"
    }
   ],
   "source": [
    "plot_histogram(result.circuit_results)"
   ]
  },
  {
   "cell_type": "code",
   "execution_count": null,
   "id": "a2505069",
   "metadata": {},
   "outputs": [],
   "source": []
  }
 ],
 "metadata": {
  "kernelspec": {
   "display_name": "Python 3 (ipykernel)",
   "language": "python",
   "name": "python3"
  },
  "language_info": {
   "codemirror_mode": {
    "name": "ipython",
    "version": 3
   },
   "file_extension": ".py",
   "mimetype": "text/x-python",
   "name": "python",
   "nbconvert_exporter": "python",
   "pygments_lexer": "ipython3",
   "version": "3.10.6"
  }
 },
 "nbformat": 4,
 "nbformat_minor": 5
}
