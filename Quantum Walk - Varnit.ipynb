{
 "cells": [
  {
   "cell_type": "markdown",
   "id": "9e8eb78b",
   "metadata": {},
   "source": [
    "# Quantum Walk"
   ]
  },
  {
   "cell_type": "markdown",
   "id": "8a37b64d",
   "metadata": {},
   "source": [
    "In this note book we will look at the idea of classical random walk and then we will try focus on quantum walks, its relation with Markov chain and its implementation."
   ]
  },
  {
   "cell_type": "markdown",
   "id": "7bcd2163",
   "metadata": {},
   "source": [
    "## 1. Markov Chains"
   ]
  },
  {
   "cell_type": "markdown",
   "id": "91b97e30",
   "metadata": {},
   "source": [
    "Markov chains are mathematical models that describe a sequence of events where the probability of transitioning from one state to another depends solely on the current state and not on the sequence of events that preceded it. In a Markov chain, the system is assumed to be in one of a finite number of states at any given time, and the transition probabilities between states are specified. Probabilities are often defined on in a transition matrix which contains the probability of transition from one tate to another. It is a process that evolves over time in a way that involves a certain degree of randomness or uncertainty. "
   ]
  },
  {
   "cell_type": "markdown",
   "id": "6c36e840",
   "metadata": {},
   "source": [
    "## 2. Classical Random Walks"
   ]
  },
  {
   "cell_type": "markdown",
   "id": "92c4f5a1",
   "metadata": {},
   "source": [
    "A classical random walk is a mathematical model that describes the stochastic process of a particle moving through a sequence of discrete steps, where the direction of each step is determined randomly."
   ]
  },
  {
   "cell_type": "markdown",
   "id": "ce3a642b",
   "metadata": {},
   "source": [
    "#### Working algorithm:"
   ]
  },
  {
   "cell_type": "markdown",
   "id": "4b1ccc66",
   "metadata": {},
   "source": [
    "1. Initialize Parameters: Set the initial position of the particle and define stopping criterion.\n",
    "2. Perform Random Steps: At each time step generate a random parameter and take next step depending upon that(for 1-D line coin flip is common practice)."
   ]
  },
  {
   "cell_type": "markdown",
   "id": "3c6c39f6",
   "metadata": {},
   "source": [
    "In a classical random walk, a walker moves from one location to another based on random decisions. In a quantum walk, the walker is described by a quantum state, and its evolution is governed by quantum mechanics. Unlike classical random walks, quantum walks can exhibit interference effects, leading to unique and non-classical behavior."
   ]
  },
  {
   "cell_type": "markdown",
   "id": "42252c93",
   "metadata": {},
   "source": [
    "The connection between quantum walks and Markov chains lies in their respective classical and quantum counterparts. Classical random walks can be seen as a special case of Markov chains, where the probabilities of transitioning between states are purely classical probabilities. Quantum walks extend this idea to the quantum realm, where the evolution is described by unitary transformations and quantum probabilities."
   ]
  },
  {
   "cell_type": "markdown",
   "id": "cef7dc48",
   "metadata": {},
   "source": [
    "## 3. Quantum Walk"
   ]
  },
  {
   "cell_type": "markdown",
   "id": "d2db6c7e",
   "metadata": {},
   "source": [
    "A quantum walk is a quantum mechanical analog of classical random walks or Markov chains. The evolution of the particle is governed by unitary operators, and instead of probabilistic outcomes, quantum probability amplitudes determine the likelihood of different paths. The unique ability of particles to exist in multiple states simultaneously, known as superposition, enables them to explore all potential paths concurrently. This expansive exploration continues until a measurement is performed. Quantum interference, a phenomenon arising from the combination of these states, selectively enhances or cancels out certain outcomes. By strategically designing quantum walk algorithms, undesired possibilities can be efficiently suppressed through interference, allowing correct paths to accumulate and yielding faster computation compared to classical counterparts."
   ]
  },
  {
   "cell_type": "markdown",
   "id": "3e1821af",
   "metadata": {},
   "source": [
    "#### Grover's Algorithm"
   ]
  },
  {
   "cell_type": "markdown",
   "id": "2ca04b2f",
   "metadata": {},
   "source": [
    "Grover's Algorithm is designed to search an unsorted database or solve unstructured search problems quadratically faster than classical algorithms."
   ]
  },
  {
   "cell_type": "markdown",
   "id": "a0566284",
   "metadata": {},
   "source": [
    "###### General idea of how Grover's algorithm"
   ]
  },
  {
   "cell_type": "markdown",
   "id": "690768ba",
   "metadata": {},
   "source": [
    "1. State Initialization: Grover's algorithm initializes the quantum state with an amplitude amplification technique. This helps prepare the quantum state in a superposition that is more likely to lead to the desired outcome.\n",
    "2. Oracle Construction: Formation of efficient quantum oracle for marking the target states in the quantum walk.\n",
    "3. Amplitude Amplification: Enhancing the probability of measuring desired state during the evolution of the quantum walk and minimizing the amplitude other non-desired states."
   ]
  },
  {
   "cell_type": "markdown",
   "id": "c94f570d",
   "metadata": {},
   "source": [
    "Grover's algorithm can be a valuable tool in quantum walk implementations by aiding in state preparation, oracle construction, amplitude amplification, and overall improving the efficiency of searching for specific states. "
   ]
  },
  {
   "cell_type": "markdown",
   "id": "05fcca30",
   "metadata": {},
   "source": [
    "### 3.1 Coined Quantum Walks"
   ]
  },
  {
   "cell_type": "markdown",
   "id": "80c74ce3",
   "metadata": {},
   "source": [
    "In quantum walk models, two prominent paradigms emerge as pioneers: the Coin-Operator Quantum Walks and the Szegedy Quantum Walks.The approach in both models are different but they assembles equivalence under specific circumstances. In this module will we we move ahead with Coined Quantum Walks."
   ]
  },
  {
   "cell_type": "markdown",
   "id": "1762b5d3",
   "metadata": {},
   "source": [
    "An illustrative instance of a coined quantum walk manifests in the traversal of an infinite integer line. The walker's trajectory is dictated by a quantum coin, directing the nuanced dynamics of movement through the space."
   ]
  },
  {
   "cell_type": "markdown",
   "id": "98ec247b",
   "metadata": {},
   "source": [
    "In the coin-based quantum walk model, there exist two fundamental quantum states accompanied by two distinct operators. \n",
    "1. The initial state signifies the walker's position, aptly named the position state ($\\mathcal{H}_P$)\n",
    "2. while the second state pertains to the coin state($\\mathcal{H}_C$), dictating the walker's directional choices in subsequent steps. Both the coin state and the position state find representation through vectors within the expansive realm of Hilbert space $\\mathcal{H} = \\mathcal{H}_C \\otimes \\mathcal{H}_P$"
   ]
  },
  {
   "cell_type": "markdown",
   "id": "a95472d0",
   "metadata": {},
   "source": [
    "The model incorporates two pivotal operators: the coin operator and the shift operator. \n",
    "1. Operating on the coin vector during each temporal step, the coin operator gracefully propels the walker into a state of superposition, allowing it to traverse an array of potential paths concurrently. There are different coin operators, but the most common ones are the Hadamard coin and the Grover coin."
   ]
  },
  {
   "cell_type": "markdown",
   "id": "44108dd2",
   "metadata": {},
   "source": [
    "A Hadamard coin is a Hadamard gate that puts the walker in an equal superposition:"
   ]
  },
  {
   "cell_type": "markdown",
   "id": "bde9d0de",
   "metadata": {},
   "source": [
    "$$H = \\frac{1}{\\sqrt{2}} \n",
    "\\begin{bmatrix}\n",
    "1 & 1 \\\\\n",
    "1 & -1\n",
    "\\end{bmatrix}\n",
    "$$"
   ]
  },
  {
   "cell_type": "markdown",
   "id": "aaeda364",
   "metadata": {},
   "source": [
    "A Grover coin is the Grover diffusion operator from Grover's algorithm. We define it as"
   ]
  },
  {
   "cell_type": "markdown",
   "id": "16b06b6a",
   "metadata": {},
   "source": [
    "$$\\begin{equation}\n",
    "    G = \n",
    "    \\begin{bmatrix}\n",
    "\\frac{2}{n} -1 & \\frac{2}{n} & \\ldots & \\frac{2}{n}\\\\\n",
    "\\frac{2}{n} & \\frac{2}{n} - 1  & \\ldots & \\frac{2}{n} \\\\\n",
    "\\vdots & \\vdots & \\ddots & \\vdots \\\\\n",
    "\\frac{2}{n} & \\frac{2}{n} & \\ldots & \\frac{2}{n} -1\n",
    "\\end{bmatrix}\n",
    "\\end{equation}$$"
   ]
  },
  {
   "cell_type": "markdown",
   "id": "fe4ed253",
   "metadata": {},
   "source": [
    "2. The shift operator, acts on position vector and moves the walker to the next position."
   ]
  },
  {
   "cell_type": "markdown",
   "id": "8fece33d",
   "metadata": {},
   "source": [
    "$\\newcommand{\\ket}[1]{\\left|{#1}\\right\\rangle}$\n",
    "$\\newcommand{\\bra}[1]{\\left\\langle{#1}\\right|}$\n",
    "For the walk on the integer line, the shift operator moves the walker to the left if the coin is $\\ket{0}$ and to the right if the coin is $\\ket{1}$:\n",
    "\n",
    "$$\n",
    "S \\ket{0}\\ket{j} = \\ket{0}\\ket{j+1}\n",
    "$$\n",
    "\n",
    "$$\n",
    "S \\ket{1}\\ket{j} = \\ket{1}\\ket{j-1}\n",
    "$$\n",
    "\n",
    "With the shift operator defined as above, we can represent one step of the coined quantum walk as the unitary operator $U$ given by:\n",
    "\n",
    "$$\n",
    "U = SC\n",
    "$$\n",
    "\n",
    "where $C$ is the coin operator. For the quantum walk on the integer line we use the Hadamard coin, but $C$ can be either Hadamard coin, Grover coin or any other coin operator.\n"
   ]
  },
  {
   "cell_type": "markdown",
   "id": "bd88da51",
   "metadata": {},
   "source": [
    "### The Coin Operator"
   ]
  },
  {
   "cell_type": "markdown",
   "id": "ff435fce",
   "metadata": {},
   "source": [
    "The first operation in a quantum random walk is the coin operator. The operator works by performing an arbitrary unitary transformation in the coin space which creates a rotation similar to “coin-flip” in random walk. This is namely the Hadamard gate, which models a balanced unitary coin. "
   ]
  },
  {
   "cell_type": "markdown",
   "id": "d01f1368",
   "metadata": {},
   "source": [
    "The results are very different from random walks as it doesn’t converge to a Gaussian distribution, but rather evolves into an asymmetric probability distribution. This happens because the Hadamard coin operator"
   ]
  },
  {
   "cell_type": "markdown",
   "id": "66636cb7",
   "metadata": {},
   "source": [
    "### 3.2 Quantum walk on a 4-dimensional hypercube"
   ]
  },
  {
   "cell_type": "markdown",
   "id": "0bb91078",
   "metadata": {},
   "source": [
    "A hypercube is the $n$-dimensional counterpart of the $3$-dimensional cube. All nodes have degree $n$, and the hypercube has a total of $N=2^n$ nodes. The binary representation of the neighbors of a node will differ by only one binary number. Thus, a node is connected to all nodes to which the Hamming distance is 1. Two neighboring nodes that differ in the $a^{th}$ bit are connected by the edge labeled $a$."
   ]
  },
  {
   "cell_type": "markdown",
   "id": "06928f45",
   "metadata": {},
   "source": [
    "The Hilbert space representing a coined quantum walk on the hypercube is $\\mathcal{H} = \\mathcal{H}^n \\otimes \\mathcal{H}^{2^n}$, where $\\mathcal{H}^n$ denotes the coin space and $\\mathcal{H}^{2^n}$ the walker's position."
   ]
  },
  {
   "cell_type": "markdown",
   "id": "89137ab3",
   "metadata": {},
   "source": [
    "\\begin{equation}\n",
    "    \\big\\{ \\ket{a,\\vec{v}}, 0 \\leq a \\leq n-1, \\vec{v} \\in  \\{(00...00), (00...01), ....., (11...11 )\\} \\big\\}. \n",
    "\\end{equation}"
   ]
  },
  {
   "cell_type": "markdown",
   "id": "cc6be776",
   "metadata": {},
   "source": [
    "The value of the coin computational basis $a$, which is associated with edge $a$, decides where the walker should move. Example,  If the $a=0$, the walker will go to the node where the first binary value differs from the current node, etc. Let $\\vec{e}_a$ be an n-tuple where all binary values, except the value with index $a$, are $0$. Then the shift operator $S$ moves the walker from the state $\\ket{a} \\ket{\\vec{v}}$ to $\\ket{\\vec{v} \\oplus \\vec{e}_a}$:"
   ]
  },
  {
   "cell_type": "markdown",
   "id": "e2b99dd7",
   "metadata": {},
   "source": [
    "\\begin{equation}\n",
    "    S \\ket{a} \\ket{\\vec{v}} = \\ket{a} \\ket{\\vec{v} \\oplus \\vec{e}_a}.\n",
    "\\end{equation}\n",
    "\n",
    "We use the Grover coin, $G$, for this walk. Thus, the evolution operator is\n",
    "\n",
    "\\begin{equation}\n",
    "    U = SG.\n",
    "\\end{equation}"
   ]
  },
  {
   "cell_type": "markdown",
   "id": "5a358a06",
   "metadata": {},
   "source": [
    "Importing Qiskid Libraries"
   ]
  },
  {
   "cell_type": "code",
   "execution_count": 47,
   "id": "521ed1ce",
   "metadata": {},
   "outputs": [],
   "source": [
    "from qiskit import QuantumCircuit, execute, Aer, IBMQ, QuantumRegister, ClassicalRegister\n",
    "from qiskit.compiler import transpile, assemble\n",
    "from qiskit.tools.jupyter import *\n",
    "from qiskit.visualization import *\n",
    "from qiskit.circuit.library import QFT\n",
    "from numpy import pi\n",
    "from qiskit.quantum_info import Statevector\n",
    "from matplotlib import pyplot as plt\n",
    "import numpy as np\n",
    "#provider = IBMQ.load_account()"
   ]
  },
  {
   "cell_type": "markdown",
   "id": "394cf2f3",
   "metadata": {},
   "source": [
    "The circuit will have 6 qubits, 4 that represents the position and 2 that represents the coin. We start by implementing this coin operator: "
   ]
  },
  {
   "cell_type": "code",
   "execution_count": 37,
   "id": "69bfa920",
   "metadata": {},
   "outputs": [
    {
     "data": {
      "text/html": [
       "<pre style=\"word-wrap: normal;white-space: pre;background: #fff0;line-height: 1.1;font-family: &quot;Courier New&quot;,Courier,monospace\">                       \n",
       "q_0: ──────────────────\n",
       "                       \n",
       "q_1: ──────────────────\n",
       "                       \n",
       "q_2: ──────────────────\n",
       "                       \n",
       "q_3: ──────────────────\n",
       "     ┌───┐┌───┐   ┌───┐\n",
       "q_4: ┤ H ├┤ Z ├─■─┤ H ├\n",
       "     ├───┤├───┤ │ ├───┤\n",
       "q_5: ┤ H ├┤ Z ├─■─┤ H ├\n",
       "     └───┘└───┘   └───┘</pre>"
      ],
      "text/plain": [
       "                       \n",
       "q_0: ──────────────────\n",
       "                       \n",
       "q_1: ──────────────────\n",
       "                       \n",
       "q_2: ──────────────────\n",
       "                       \n",
       "q_3: ──────────────────\n",
       "     ┌───┐┌───┐   ┌───┐\n",
       "q_4: ┤ H ├┤ Z ├─■─┤ H ├\n",
       "     ├───┤├───┤ │ ├───┤\n",
       "q_5: ┤ H ├┤ Z ├─■─┤ H ├\n",
       "     └───┘└───┘   └───┘"
      ]
     },
     "execution_count": 37,
     "metadata": {},
     "output_type": "execute_result"
    }
   ],
   "source": [
    "one_step_circuit = QuantumCircuit(6, name=' ONE STEP') \n",
    "one_step_circuit.h([4,5])\n",
    "one_step_circuit.z([4,5])\n",
    "one_step_circuit.cz(4,5)\n",
    "one_step_circuit.h([4,5])\n",
    "one_step_circuit.draw() "
   ]
  },
  {
   "cell_type": "markdown",
   "id": "aaf1bd25",
   "metadata": {},
   "source": [
    "Now, let us implement the shift operator.  We know that, all neighboring nodes differ by only one bit. So, we move the walker by applying a NOT gate to one of the node qubits. If the coin is in state $\\ket{11}$, we move the walker to the state in which the first node qubit differ. If the coin is $\\ket{10}$ or $\\ket{01}$, the walker moves to the state where the second and third qubit, respectively, differ. Finally, if the Grover coin is $\\ket{00}$, we flip the fourth qubit. We implement this with CCNOT- and NOT gates after the Grover coin. Together, they are one step of a quantum walk on a 4-dimensional hypercube. "
   ]
  },
  {
   "cell_type": "code",
   "execution_count": 38,
   "id": "43aad162",
   "metadata": {},
   "outputs": [
    {
     "data": {
      "text/html": [
       "<pre style=\"word-wrap: normal;white-space: pre;background: #fff0;line-height: 1.1;font-family: &quot;Courier New&quot;,Courier,monospace\">                            ┌───┐                              \n",
       "q_0: ───────────────────────┤ X ├──────────────────────────────\n",
       "                            └─┬─┘     ┌───┐                    \n",
       "q_1: ─────────────────────────┼───────┤ X ├────────────────────\n",
       "                              │       └─┬─┘     ┌───┐          \n",
       "q_2: ─────────────────────────┼─────────┼───────┤ X ├──────────\n",
       "                              │         │       └─┬─┘     ┌───┐\n",
       "q_3: ─────────────────────────┼─────────┼─────────┼───────┤ X ├\n",
       "     ┌───┐┌───┐   ┌───┐┌───┐  │  ┌───┐  │  ┌───┐  │  ┌───┐└─┬─┘\n",
       "q_4: ┤ H ├┤ Z ├─■─┤ H ├┤ X ├──■──┤ X ├──■──┤ X ├──■──┤ X ├──■──\n",
       "     ├───┤├───┤ │ ├───┤├───┤  │  └───┘  │  ├───┤  │  └───┘  │  \n",
       "q_5: ┤ H ├┤ Z ├─■─┤ H ├┤ X ├──■─────────■──┤ X ├──■─────────■──\n",
       "     └───┘└───┘   └───┘└───┘               └───┘               </pre>"
      ],
      "text/plain": [
       "                            ┌───┐                              \n",
       "q_0: ───────────────────────┤ X ├──────────────────────────────\n",
       "                            └─┬─┘     ┌───┐                    \n",
       "q_1: ─────────────────────────┼───────┤ X ├────────────────────\n",
       "                              │       └─┬─┘     ┌───┐          \n",
       "q_2: ─────────────────────────┼─────────┼───────┤ X ├──────────\n",
       "                              │         │       └─┬─┘     ┌───┐\n",
       "q_3: ─────────────────────────┼─────────┼─────────┼───────┤ X ├\n",
       "     ┌───┐┌───┐   ┌───┐┌───┐  │  ┌───┐  │  ┌───┐  │  ┌───┐└─┬─┘\n",
       "q_4: ┤ H ├┤ Z ├─■─┤ H ├┤ X ├──■──┤ X ├──■──┤ X ├──■──┤ X ├──■──\n",
       "     ├───┤├───┤ │ ├───┤├───┤  │  └───┘  │  ├───┤  │  └───┘  │  \n",
       "q_5: ┤ H ├┤ Z ├─■─┤ H ├┤ X ├──■─────────■──┤ X ├──■─────────■──\n",
       "     └───┘└───┘   └───┘└───┘               └───┘               "
      ]
     },
     "execution_count": 38,
     "metadata": {},
     "output_type": "execute_result"
    }
   ],
   "source": [
    "# Shift operator function for 4d-hypercube\n",
    "def shift_operator(circuit):\n",
    "    for i in range(0,4):\n",
    "        circuit.x(4)\n",
    "        if i%2==0:\n",
    "            circuit.x(5)\n",
    "        circuit.ccx(4,5,i)\n",
    "\n",
    "shift_operator(one_step_circuit)\n",
    "\n",
    "one_step_gate = one_step_circuit.to_instruction() \n",
    "one_step_circuit.draw() "
   ]
  },
  {
   "cell_type": "markdown",
   "id": "04b7ddd5",
   "metadata": {},
   "source": [
    "### 3.3 Quantum walk search on 4-dimensional hypercube"
   ]
  },
  {
   "cell_type": "markdown",
   "id": "d8e12c43",
   "metadata": {},
   "source": [
    "The quantum walk search algorithm makes it possible to find a marked set of nodes in $O(1/\\sqrt{\\epsilon})$ steps, $\\epsilon =  |M|/N$, where $M$ is the number of marked nodes and $N$ is the total number of nodes."
   ]
  },
  {
   "cell_type": "markdown",
   "id": "bf2afb62",
   "metadata": {},
   "source": [
    "##### Algorithm:"
   ]
  },
  {
   "cell_type": "markdown",
   "id": "3b7b4ae5",
   "metadata": {},
   "source": [
    "1. A uniform superposition over all edges, by applying Hadamard gates to the node qubits as well as the coin qubits.\n",
    "2. We implement a phase oracle.\n",
    "3. Implementation of a phase estimation on one step of the quantum walk on the hypercube followed by marking all quantum states where $\\theta \\neq 0$.\n",
    "3. We reverse the phase estimation."
   ]
  },
  {
   "cell_type": "markdown",
   "id": "b820cca9",
   "metadata": {},
   "source": [
    "We also need an inverse of previous circuit"
   ]
  },
  {
   "cell_type": "code",
   "execution_count": 39,
   "id": "7db68601",
   "metadata": {},
   "outputs": [
    {
     "data": {
      "text/html": [
       "<pre style=\"word-wrap: normal;white-space: pre;background: #fff0;line-height: 1.1;font-family: &quot;Courier New&quot;,Courier,monospace\">                                   ┌───┐                       \n",
       "q_0: ──────────────────────────────┤ X ├───────────────────────\n",
       "                         ┌───┐     └─┬─┘                       \n",
       "q_1: ────────────────────┤ X ├───────┼─────────────────────────\n",
       "               ┌───┐     └─┬─┘       │                         \n",
       "q_2: ──────────┤ X ├───────┼─────────┼─────────────────────────\n",
       "     ┌───┐     └─┬─┘       │         │                         \n",
       "q_3: ┤ X ├───────┼─────────┼─────────┼─────────────────────────\n",
       "     └─┬─┘┌───┐  │  ┌───┐  │  ┌───┐  │  ┌───┐┌───┐   ┌───┐┌───┐\n",
       "q_4: ──■──┤ X ├──■──┤ X ├──■──┤ X ├──■──┤ X ├┤ H ├─■─┤ Z ├┤ H ├\n",
       "       │  └───┘  │  ├───┤  │  └───┘  │  ├───┤├───┤ │ ├───┤├───┤\n",
       "q_5: ──■─────────■──┤ X ├──■─────────■──┤ X ├┤ H ├─■─┤ Z ├┤ H ├\n",
       "                    └───┘               └───┘└───┘   └───┘└───┘</pre>"
      ],
      "text/plain": [
       "                                   ┌───┐                       \n",
       "q_0: ──────────────────────────────┤ X ├───────────────────────\n",
       "                         ┌───┐     └─┬─┘                       \n",
       "q_1: ────────────────────┤ X ├───────┼─────────────────────────\n",
       "               ┌───┐     └─┬─┘       │                         \n",
       "q_2: ──────────┤ X ├───────┼─────────┼─────────────────────────\n",
       "     ┌───┐     └─┬─┘       │         │                         \n",
       "q_3: ┤ X ├───────┼─────────┼─────────┼─────────────────────────\n",
       "     └─┬─┘┌───┐  │  ┌───┐  │  ┌───┐  │  ┌───┐┌───┐   ┌───┐┌───┐\n",
       "q_4: ──■──┤ X ├──■──┤ X ├──■──┤ X ├──■──┤ X ├┤ H ├─■─┤ Z ├┤ H ├\n",
       "       │  └───┘  │  ├───┤  │  └───┘  │  ├───┤├───┤ │ ├───┤├───┤\n",
       "q_5: ──■─────────■──┤ X ├──■─────────■──┤ X ├┤ H ├─■─┤ Z ├┤ H ├\n",
       "                    └───┘               └───┘└───┘   └───┘└───┘"
      ]
     },
     "execution_count": 39,
     "metadata": {},
     "output_type": "execute_result"
    }
   ],
   "source": [
    "one_step_circuit.inverse().draw() "
   ]
  },
  {
   "cell_type": "markdown",
   "id": "459d6913",
   "metadata": {},
   "source": [
    "To control the value of qubit we need to make controlled gates as follows:"
   ]
  },
  {
   "cell_type": "code",
   "execution_count": 40,
   "id": "ef90606f",
   "metadata": {},
   "outputs": [],
   "source": [
    "inv_cont_one_step = one_step_circuit.inverse().control()\n",
    "inv_cont_one_step_gate = inv_cont_one_step.to_instruction()\n",
    "cont_one_step = one_step_circuit.control()\n",
    "cont_one_step_gate = cont_one_step.to_instruction()"
   ]
  },
  {
   "cell_type": "markdown",
   "id": "72e1b9bd",
   "metadata": {},
   "source": [
    "Phase estimation involves the utilization of both the controlled one-step gate and its inverse counterpart. Additionally, the Quantum Fourier Transform plays a crucial role in this process. While the phase estimation relies on the inverse Quantum Fourier Transform, the ordinary QFT becomes essential for reversing the phase estimation"
   ]
  },
  {
   "cell_type": "code",
   "execution_count": 41,
   "id": "203706cb",
   "metadata": {},
   "outputs": [
    {
     "data": {
      "image/png": "[encoded data removed]",
      "text/plain": [
       "<Figure size 1625.27x367.889 with 1 Axes>"
      ]
     },
     "execution_count": 41,
     "metadata": {},
     "output_type": "execute_result"
    }
   ],
   "source": [
    "inv_qft_gate = QFT(4, inverse=True).to_instruction()  \n",
    "qft_gate = QFT(4, inverse=False).to_instruction()\n",
    "\n",
    "QFT(4, inverse=True).decompose().draw(\"mpl\")"
   ]
  },
  {
   "cell_type": "markdown",
   "id": "118fdd15",
   "metadata": {},
   "source": [
    "Now we will mark states 1011 and 1111 as marked states. So, we will implement oracle for this:"
   ]
  },
  {
   "cell_type": "code",
   "execution_count": 42,
   "id": "2ec18f82",
   "metadata": {},
   "outputs": [
    {
     "data": {
      "text/html": [
       "<pre style=\"word-wrap: normal;white-space: pre;background: #fff0;line-height: 1.1;font-family: &quot;Courier New&quot;,Courier,monospace\">                                   \n",
       "q_0: ───────■──────────────■───────\n",
       "            │              │       \n",
       "q_1: ───────■──────────────■───────\n",
       "     ┌───┐  │  ┌───┐       │       \n",
       "q_2: ┤ X ├──■──┤ X ├───────■───────\n",
       "     ├───┤┌─┴─┐├───┤┌───┐┌─┴─┐┌───┐\n",
       "q_3: ┤ H ├┤ X ├┤ H ├┤ H ├┤ X ├┤ H ├\n",
       "     └───┘└───┘└───┘└───┘└───┘└───┘\n",
       "q_4: ──────────────────────────────\n",
       "                                   \n",
       "q_5: ──────────────────────────────\n",
       "                                   </pre>"
      ],
      "text/plain": [
       "                                   \n",
       "q_0: ───────■──────────────■───────\n",
       "            │              │       \n",
       "q_1: ───────■──────────────■───────\n",
       "     ┌───┐  │  ┌───┐       │       \n",
       "q_2: ┤ X ├──■──┤ X ├───────■───────\n",
       "     ├───┤┌─┴─┐├───┤┌───┐┌─┴─┐┌───┐\n",
       "q_3: ┤ H ├┤ X ├┤ H ├┤ H ├┤ X ├┤ H ├\n",
       "     └───┘└───┘└───┘└───┘└───┘└───┘\n",
       "q_4: ──────────────────────────────\n",
       "                                   \n",
       "q_5: ──────────────────────────────\n",
       "                                   "
      ]
     },
     "execution_count": 42,
     "metadata": {},
     "output_type": "execute_result"
    }
   ],
   "source": [
    "phase_circuit =  QuantumCircuit(6, name=' phase oracle ')\n",
    "# Mark 1011\n",
    "phase_circuit.x(2)\n",
    "phase_circuit.h(3)\n",
    "phase_circuit.mct([0,1,2], 3)\n",
    "phase_circuit.h(3)\n",
    "phase_circuit.x(2)\n",
    "# Mark 1111\n",
    "phase_circuit.h(3)\n",
    "phase_circuit.mct([0,1,2],3)\n",
    "phase_circuit.h(3)\n",
    "phase_oracle_gate = phase_circuit.to_instruction()\n",
    "# Phase oracle circuit\n",
    "phase_oracle_circuit =  QuantumCircuit(11, name=' PHASE ORACLE CIRCUIT ')\n",
    "phase_oracle_circuit.append(phase_oracle_gate, [4,5,6,7,8,9])\n",
    "phase_circuit.draw() "
   ]
  },
  {
   "cell_type": "markdown",
   "id": "26402829",
   "metadata": {},
   "source": [
    "We will proceed to implement a gate that performs a rotation on an auxiliary qubit if the other qubits are non-zero. This gate will be employed in the phase estimation process, where it rotates the auxiliary qubit if $\\theta \\neq 0$."
   ]
  },
  {
   "cell_type": "code",
   "execution_count": 43,
   "id": "db3e11f3",
   "metadata": {},
   "outputs": [
    {
     "data": {
      "text/html": [
       "<pre style=\"word-wrap: normal;white-space: pre;background: #fff0;line-height: 1.1;font-family: &quot;Courier New&quot;,Courier,monospace\">     ┌───┐               ┌───┐\n",
       "q_0: ┤ X ├──■─────────■──┤ X ├\n",
       "     ├───┤  │         │  ├───┤\n",
       "q_1: ┤ X ├──■─────────■──┤ X ├\n",
       "     ├───┤  │         │  ├───┤\n",
       "q_2: ┤ X ├──■─────────■──┤ X ├\n",
       "     ├───┤  │         │  ├───┤\n",
       "q_3: ┤ X ├──■─────────■──┤ X ├\n",
       "     ├───┤┌─┴─┐┌───┐┌─┴─┐├───┤\n",
       "q_4: ┤ X ├┤ X ├┤ Z ├┤ X ├┤ X ├\n",
       "     └───┘└───┘└───┘└───┘└───┘</pre>"
      ],
      "text/plain": [
       "     ┌───┐               ┌───┐\n",
       "q_0: ┤ X ├──■─────────■──┤ X ├\n",
       "     ├───┤  │         │  ├───┤\n",
       "q_1: ┤ X ├──■─────────■──┤ X ├\n",
       "     ├───┤  │         │  ├───┤\n",
       "q_2: ┤ X ├──■─────────■──┤ X ├\n",
       "     ├───┤  │         │  ├───┤\n",
       "q_3: ┤ X ├──■─────────■──┤ X ├\n",
       "     ├───┤┌─┴─┐┌───┐┌─┴─┐├───┤\n",
       "q_4: ┤ X ├┤ X ├┤ Z ├┤ X ├┤ X ├\n",
       "     └───┘└───┘└───┘└───┘└───┘"
      ]
     },
     "execution_count": 43,
     "metadata": {},
     "output_type": "execute_result"
    }
   ],
   "source": [
    "# Mark q_4 if the other qubits are non-zero \n",
    "mark_auxiliary_circuit = QuantumCircuit(5, name=' mark auxiliary ')\n",
    "mark_auxiliary_circuit.x([0,1,2,3,4])\n",
    "mark_auxiliary_circuit.mct([0,1,2,3], 4)\n",
    "mark_auxiliary_circuit.z(4)\n",
    "mark_auxiliary_circuit.mct([0,1,2,3], 4)\n",
    "mark_auxiliary_circuit.x([0,1,2,3,4])\n",
    "\n",
    "mark_auxiliary_gate = mark_auxiliary_circuit.to_instruction()\n",
    "mark_auxiliary_circuit.draw()"
   ]
  },
  {
   "cell_type": "markdown",
   "id": "6edbe427",
   "metadata": {},
   "source": [
    "This step involves a phase estimation, where we take one step of the quantum walk, followed by an auxiliary qubit rotation if $\\theta \\neq 0$. To achieve this, we make use of the mark_auxiliary_gate that was recently created. Subsequently, we reverse the phase estimation."
   ]
  },
  {
   "cell_type": "code",
   "execution_count": 44,
   "id": "aafb0cc1",
   "metadata": {},
   "outputs": [
    {
     "data": {
      "text/html": [
       "<pre style=\"word-wrap: normal;white-space: pre;background: #fff0;line-height: 1.1;font-family: &quot;Courier New&quot;,Courier,monospace\">      ┌───┐┌──────────────┐                                                »\n",
       " q_0: ┤ H ├┤0             ├────────────────────────────────────────────────»\n",
       "      ├───┤│              │┌──────────────┐┌──────────────┐                »\n",
       " q_1: ┤ H ├┤              ├┤0             ├┤0             ├────────────────»\n",
       "      ├───┤│              ││              ││              │┌──────────────┐»\n",
       " q_2: ┤ H ├┤              ├┤              ├┤              ├┤0             ├»\n",
       "      ├───┤│              ││              ││              ││              │»\n",
       " q_3: ┤ H ├┤              ├┤              ├┤              ├┤              ├»\n",
       "      └───┘│              ││              ││              ││              │»\n",
       " q_4: ─────┤1             ├┤1             ├┤1             ├┤1             ├»\n",
       "           │  c_ ONE STEP ││              ││              ││              │»\n",
       " q_5: ─────┤2             ├┤2 c_ ONE STEP ├┤2 c_ ONE STEP ├┤2             ├»\n",
       "           │              ││              ││              ││  c_ ONE STEP │»\n",
       " q_6: ─────┤3             ├┤3             ├┤3             ├┤3             ├»\n",
       "           │              ││              ││              ││              │»\n",
       " q_7: ─────┤4             ├┤4             ├┤4             ├┤4             ├»\n",
       "           │              ││              ││              ││              │»\n",
       " q_8: ─────┤5             ├┤5             ├┤5             ├┤5             ├»\n",
       "           │              ││              ││              ││              │»\n",
       " q_9: ─────┤6             ├┤6             ├┤6             ├┤6             ├»\n",
       "           └──────────────┘└──────────────┘└──────────────┘└──────────────┘»\n",
       "q_10: ─────────────────────────────────────────────────────────────────────»\n",
       "                                                                           »\n",
       "«                                                                      »\n",
       "« q_0: ────────────────────────────────────────────────────────────────»\n",
       "«                                                                      »\n",
       "« q_1: ────────────────────────────────────────────────────────────────»\n",
       "«      ┌──────────────┐┌──────────────┐┌──────────────┐                »\n",
       "« q_2: ┤0             ├┤0             ├┤0             ├────────────────»\n",
       "«      │              ││              ││              │┌──────────────┐»\n",
       "« q_3: ┤              ├┤              ├┤              ├┤0             ├»\n",
       "«      │              ││              ││              ││              │»\n",
       "« q_4: ┤1             ├┤1             ├┤1             ├┤1             ├»\n",
       "«      │              ││              ││              ││              │»\n",
       "« q_5: ┤2             ├┤2             ├┤2             ├┤2             ├»\n",
       "«      │  c_ ONE STEP ││  c_ ONE STEP ││  c_ ONE STEP ││              │»\n",
       "« q_6: ┤3             ├┤3             ├┤3             ├┤3 c_ ONE STEP ├»\n",
       "«      │              ││              ││              ││              │»\n",
       "« q_7: ┤4             ├┤4             ├┤4             ├┤4             ├»\n",
       "«      │              ││              ││              ││              │»\n",
       "« q_8: ┤5             ├┤5             ├┤5             ├┤5             ├»\n",
       "«      │              ││              ││              ││              │»\n",
       "« q_9: ┤6             ├┤6             ├┤6             ├┤6             ├»\n",
       "«      └──────────────┘└──────────────┘└──────────────┘└──────────────┘»\n",
       "«q_10: ────────────────────────────────────────────────────────────────»\n",
       "«                                                                      »\n",
       "«                                                                      »\n",
       "« q_0: ────────────────────────────────────────────────────────────────»\n",
       "«                                                                      »\n",
       "« q_1: ────────────────────────────────────────────────────────────────»\n",
       "«                                                                      »\n",
       "« q_2: ────────────────────────────────────────────────────────────────»\n",
       "«      ┌──────────────┐┌──────────────┐┌──────────────┐┌──────────────┐»\n",
       "« q_3: ┤0             ├┤0             ├┤0             ├┤0             ├»\n",
       "«      │              ││              ││              ││              │»\n",
       "« q_4: ┤1             ├┤1             ├┤1             ├┤1             ├»\n",
       "«      │              ││              ││              ││              │»\n",
       "« q_5: ┤2             ├┤2             ├┤2             ├┤2             ├»\n",
       "«      │              ││              ││              ││              │»\n",
       "« q_6: ┤3 c_ ONE STEP ├┤3 c_ ONE STEP ├┤3 c_ ONE STEP ├┤3 c_ ONE STEP ├»\n",
       "«      │              ││              ││              ││              │»\n",
       "« q_7: ┤4             ├┤4             ├┤4             ├┤4             ├»\n",
       "«      │              ││              ││              ││              │»\n",
       "« q_8: ┤5             ├┤5             ├┤5             ├┤5             ├»\n",
       "«      │              ││              ││              ││              │»\n",
       "« q_9: ┤6             ├┤6             ├┤6             ├┤6             ├»\n",
       "«      └──────────────┘└──────────────┘└──────────────┘└──────────────┘»\n",
       "«q_10: ────────────────────────────────────────────────────────────────»\n",
       "«                                                                      »\n",
       "«                                                      ┌───────┐»\n",
       "« q_0: ────────────────────────────────────────────────┤0      ├»\n",
       "«                                                      │       │»\n",
       "« q_1: ────────────────────────────────────────────────┤1      ├»\n",
       "«                                                      │  IQFT │»\n",
       "« q_2: ────────────────────────────────────────────────┤2      ├»\n",
       "«      ┌──────────────┐┌──────────────┐┌──────────────┐│       │»\n",
       "« q_3: ┤0             ├┤0             ├┤0             ├┤3      ├»\n",
       "«      │              ││              ││              │└───────┘»\n",
       "« q_4: ┤1             ├┤1             ├┤1             ├─────────»\n",
       "«      │              ││              ││              │         »\n",
       "« q_5: ┤2             ├┤2             ├┤2             ├─────────»\n",
       "«      │              ││              ││              │         »\n",
       "« q_6: ┤3 c_ ONE STEP ├┤3 c_ ONE STEP ├┤3 c_ ONE STEP ├─────────»\n",
       "«      │              ││              ││              │         »\n",
       "« q_7: ┤4             ├┤4             ├┤4             ├─────────»\n",
       "«      │              ││              ││              │         »\n",
       "« q_8: ┤5             ├┤5             ├┤5             ├─────────»\n",
       "«      │              ││              ││              │         »\n",
       "« q_9: ┤6             ├┤6             ├┤6             ├─────────»\n",
       "«      └──────────────┘└──────────────┘└──────────────┘         »\n",
       "«q_10: ─────────────────────────────────────────────────────────»\n",
       "«                                                               »\n",
       "«      ┌───────────────────┐┌──────┐                                      »\n",
       "« q_0: ┤0                  ├┤0     ├──────────────────────────────────────»\n",
       "«      │                   ││      │                                      »\n",
       "« q_1: ┤1                  ├┤1     ├──────────────────────────────────────»\n",
       "«      │                   ││  QFT │                                      »\n",
       "« q_2: ┤2                  ├┤2     ├──────────────────────────────────────»\n",
       "«      │                   ││      │┌─────────────────┐┌─────────────────┐»\n",
       "« q_3: ┤3                  ├┤3     ├┤0                ├┤0                ├»\n",
       "«      │                   │└──────┘│                 ││                 │»\n",
       "« q_4: ┤                   ├────────┤1                ├┤1                ├»\n",
       "«      │                   │        │                 ││                 │»\n",
       "« q_5: ┤   mark auxiliary  ├────────┤2                ├┤2                ├»\n",
       "«      │                   │        │                 ││                 │»\n",
       "« q_6: ┤                   ├────────┤3 c_ ONE STEP_dg ├┤3 c_ ONE STEP_dg ├»\n",
       "«      │                   │        │                 ││                 │»\n",
       "« q_7: ┤                   ├────────┤4                ├┤4                ├»\n",
       "«      │                   │        │                 ││                 │»\n",
       "« q_8: ┤                   ├────────┤5                ├┤5                ├»\n",
       "«      │                   │        │                 ││                 │»\n",
       "« q_9: ┤                   ├────────┤6                ├┤6                ├»\n",
       "«      │                   │        └─────────────────┘└─────────────────┘»\n",
       "«q_10: ┤4                  ├──────────────────────────────────────────────»\n",
       "«      └───────────────────┘                                              »\n",
       "«                                                               »\n",
       "« q_0: ─────────────────────────────────────────────────────────»\n",
       "«                                                               »\n",
       "« q_1: ─────────────────────────────────────────────────────────»\n",
       "«                                                               »\n",
       "« q_2: ─────────────────────────────────────────────────────────»\n",
       "«      ┌─────────────────┐┌─────────────────┐┌─────────────────┐»\n",
       "« q_3: ┤0                ├┤0                ├┤0                ├»\n",
       "«      │                 ││                 ││                 │»\n",
       "« q_4: ┤1                ├┤1                ├┤1                ├»\n",
       "«      │                 ││                 ││                 │»\n",
       "« q_5: ┤2                ├┤2                ├┤2                ├»\n",
       "«      │                 ││                 ││                 │»\n",
       "« q_6: ┤3 c_ ONE STEP_dg ├┤3 c_ ONE STEP_dg ├┤3 c_ ONE STEP_dg ├»\n",
       "«      │                 ││                 ││                 │»\n",
       "« q_7: ┤4                ├┤4                ├┤4                ├»\n",
       "«      │                 ││                 ││                 │»\n",
       "« q_8: ┤5                ├┤5                ├┤5                ├»\n",
       "«      │                 ││                 ││                 │»\n",
       "« q_9: ┤6                ├┤6                ├┤6                ├»\n",
       "«      └─────────────────┘└─────────────────┘└─────────────────┘»\n",
       "«q_10: ─────────────────────────────────────────────────────────»\n",
       "«                                                               »\n",
       "«                                                               »\n",
       "« q_0: ─────────────────────────────────────────────────────────»\n",
       "«                                                               »\n",
       "« q_1: ─────────────────────────────────────────────────────────»\n",
       "«                                                               »\n",
       "« q_2: ─────────────────────────────────────────────────────────»\n",
       "«      ┌─────────────────┐┌─────────────────┐┌─────────────────┐»\n",
       "« q_3: ┤0                ├┤0                ├┤0                ├»\n",
       "«      │                 ││                 ││                 │»\n",
       "« q_4: ┤1                ├┤1                ├┤1                ├»\n",
       "«      │                 ││                 ││                 │»\n",
       "« q_5: ┤2                ├┤2                ├┤2                ├»\n",
       "«      │                 ││                 ││                 │»\n",
       "« q_6: ┤3 c_ ONE STEP_dg ├┤3 c_ ONE STEP_dg ├┤3 c_ ONE STEP_dg ├»\n",
       "«      │                 ││                 ││                 │»\n",
       "« q_7: ┤4                ├┤4                ├┤4                ├»\n",
       "«      │                 ││                 ││                 │»\n",
       "« q_8: ┤5                ├┤5                ├┤5                ├»\n",
       "«      │                 ││                 ││                 │»\n",
       "« q_9: ┤6                ├┤6                ├┤6                ├»\n",
       "«      └─────────────────┘└─────────────────┘└─────────────────┘»\n",
       "«q_10: ─────────────────────────────────────────────────────────»\n",
       "«                                                               »\n",
       "«                                                               »\n",
       "« q_0: ─────────────────────────────────────────────────────────»\n",
       "«                                                               »\n",
       "« q_1: ─────────────────────────────────────────────────────────»\n",
       "«      ┌─────────────────┐┌─────────────────┐┌─────────────────┐»\n",
       "« q_2: ┤0                ├┤0                ├┤0                ├»\n",
       "«      │                 ││                 ││                 │»\n",
       "« q_3: ┤                 ├┤                 ├┤                 ├»\n",
       "«      │                 ││                 ││                 │»\n",
       "« q_4: ┤1                ├┤1                ├┤1                ├»\n",
       "«      │                 ││                 ││                 │»\n",
       "« q_5: ┤2                ├┤2                ├┤2                ├»\n",
       "«      │  c_ ONE STEP_dg ││  c_ ONE STEP_dg ││  c_ ONE STEP_dg │»\n",
       "« q_6: ┤3                ├┤3                ├┤3                ├»\n",
       "«      │                 ││                 ││                 │»\n",
       "« q_7: ┤4                ├┤4                ├┤4                ├»\n",
       "«      │                 ││                 ││                 │»\n",
       "« q_8: ┤5                ├┤5                ├┤5                ├»\n",
       "«      │                 ││                 ││                 │»\n",
       "« q_9: ┤6                ├┤6                ├┤6                ├»\n",
       "«      └─────────────────┘└─────────────────┘└─────────────────┘»\n",
       "«q_10: ─────────────────────────────────────────────────────────»\n",
       "«                                                               »\n",
       "«                                                               »\n",
       "« q_0: ─────────────────────────────────────────────────────────»\n",
       "«                         ┌─────────────────┐┌─────────────────┐»\n",
       "« q_1: ───────────────────┤0                ├┤0                ├»\n",
       "«      ┌─────────────────┐│                 ││                 │»\n",
       "« q_2: ┤0                ├┤                 ├┤                 ├»\n",
       "«      │                 ││                 ││                 │»\n",
       "« q_3: ┤                 ├┤                 ├┤                 ├»\n",
       "«      │                 ││                 ││                 │»\n",
       "« q_4: ┤1                ├┤1                ├┤1                ├»\n",
       "«      │                 ││                 ││                 │»\n",
       "« q_5: ┤2                ├┤2 c_ ONE STEP_dg ├┤2 c_ ONE STEP_dg ├»\n",
       "«      │  c_ ONE STEP_dg ││                 ││                 │»\n",
       "« q_6: ┤3                ├┤3                ├┤3                ├»\n",
       "«      │                 ││                 ││                 │»\n",
       "« q_7: ┤4                ├┤4                ├┤4                ├»\n",
       "«      │                 ││                 ││                 │»\n",
       "« q_8: ┤5                ├┤5                ├┤5                ├»\n",
       "«      │                 ││                 ││                 │»\n",
       "« q_9: ┤6                ├┤6                ├┤6                ├»\n",
       "«      └─────────────────┘└─────────────────┘└─────────────────┘»\n",
       "«q_10: ─────────────────────────────────────────────────────────»\n",
       "«                                                               »\n",
       "«      ┌─────────────────┐ ░ ┌───┐\n",
       "« q_0: ┤0                ├─░─┤ H ├\n",
       "«      │                 │ ░ ├───┤\n",
       "« q_1: ┤                 ├─░─┤ H ├\n",
       "«      │                 │ ░ ├───┤\n",
       "« q_2: ┤                 ├─░─┤ H ├\n",
       "«      │                 │ ░ ├───┤\n",
       "« q_3: ┤                 ├─░─┤ H ├\n",
       "«      │                 │ ░ └───┘\n",
       "« q_4: ┤1                ├─░──────\n",
       "«      │  c_ ONE STEP_dg │ ░      \n",
       "« q_5: ┤2                ├─░──────\n",
       "«      │                 │ ░      \n",
       "« q_6: ┤3                ├─░──────\n",
       "«      │                 │ ░      \n",
       "« q_7: ┤4                ├─░──────\n",
       "«      │                 │ ░      \n",
       "« q_8: ┤5                ├─░──────\n",
       "«      │                 │ ░      \n",
       "« q_9: ┤6                ├─░──────\n",
       "«      └─────────────────┘ ░      \n",
       "«q_10: ───────────────────────────\n",
       "«                                 </pre>"
      ],
      "text/plain": [
       "      ┌───┐┌──────────────┐                                                »\n",
       " q_0: ┤ H ├┤0             ├────────────────────────────────────────────────»\n",
       "      ├───┤│              │┌──────────────┐┌──────────────┐                »\n",
       " q_1: ┤ H ├┤              ├┤0             ├┤0             ├────────────────»\n",
       "      ├───┤│              ││              ││              │┌──────────────┐»\n",
       " q_2: ┤ H ├┤              ├┤              ├┤              ├┤0             ├»\n",
       "      ├───┤│              ││              ││              ││              │»\n",
       " q_3: ┤ H ├┤              ├┤              ├┤              ├┤              ├»\n",
       "      └───┘│              ││              ││              ││              │»\n",
       " q_4: ─────┤1             ├┤1             ├┤1             ├┤1             ├»\n",
       "           │  c_ ONE STEP ││              ││              ││              │»\n",
       " q_5: ─────┤2             ├┤2 c_ ONE STEP ├┤2 c_ ONE STEP ├┤2             ├»\n",
       "           │              ││              ││              ││  c_ ONE STEP │»\n",
       " q_6: ─────┤3             ├┤3             ├┤3             ├┤3             ├»\n",
       "           │              ││              ││              ││              │»\n",
       " q_7: ─────┤4             ├┤4             ├┤4             ├┤4             ├»\n",
       "           │              ││              ││              ││              │»\n",
       " q_8: ─────┤5             ├┤5             ├┤5             ├┤5             ├»\n",
       "           │              ││              ││              ││              │»\n",
       " q_9: ─────┤6             ├┤6             ├┤6             ├┤6             ├»\n",
       "           └──────────────┘└──────────────┘└──────────────┘└──────────────┘»\n",
       "q_10: ─────────────────────────────────────────────────────────────────────»\n",
       "                                                                           »\n",
       "«                                                                      »\n",
       "« q_0: ────────────────────────────────────────────────────────────────»\n",
       "«                                                                      »\n",
       "« q_1: ────────────────────────────────────────────────────────────────»\n",
       "«      ┌──────────────┐┌──────────────┐┌──────────────┐                »\n",
       "« q_2: ┤0             ├┤0             ├┤0             ├────────────────»\n",
       "«      │              ││              ││              │┌──────────────┐»\n",
       "« q_3: ┤              ├┤              ├┤              ├┤0             ├»\n",
       "«      │              ││              ││              ││              │»\n",
       "« q_4: ┤1             ├┤1             ├┤1             ├┤1             ├»\n",
       "«      │              ││              ││              ││              │»\n",
       "« q_5: ┤2             ├┤2             ├┤2             ├┤2             ├»\n",
       "«      │  c_ ONE STEP ││  c_ ONE STEP ││  c_ ONE STEP ││              │»\n",
       "« q_6: ┤3             ├┤3             ├┤3             ├┤3 c_ ONE STEP ├»\n",
       "«      │              ││              ││              ││              │»\n",
       "« q_7: ┤4             ├┤4             ├┤4             ├┤4             ├»\n",
       "«      │              ││              ││              ││              │»\n",
       "« q_8: ┤5             ├┤5             ├┤5             ├┤5             ├»\n",
       "«      │              ││              ││              ││              │»\n",
       "« q_9: ┤6             ├┤6             ├┤6             ├┤6             ├»\n",
       "«      └──────────────┘└──────────────┘└──────────────┘└──────────────┘»\n",
       "«q_10: ────────────────────────────────────────────────────────────────»\n",
       "«                                                                      »\n",
       "«                                                                      »\n",
       "« q_0: ────────────────────────────────────────────────────────────────»\n",
       "«                                                                      »\n",
       "« q_1: ────────────────────────────────────────────────────────────────»\n",
       "«                                                                      »\n",
       "« q_2: ────────────────────────────────────────────────────────────────»\n",
       "«      ┌──────────────┐┌──────────────┐┌──────────────┐┌──────────────┐»\n",
       "« q_3: ┤0             ├┤0             ├┤0             ├┤0             ├»\n",
       "«      │              ││              ││              ││              │»\n",
       "« q_4: ┤1             ├┤1             ├┤1             ├┤1             ├»\n",
       "«      │              ││              ││              ││              │»\n",
       "« q_5: ┤2             ├┤2             ├┤2             ├┤2             ├»\n",
       "«      │              ││              ││              ││              │»\n",
       "« q_6: ┤3 c_ ONE STEP ├┤3 c_ ONE STEP ├┤3 c_ ONE STEP ├┤3 c_ ONE STEP ├»\n",
       "«      │              ││              ││              ││              │»\n",
       "« q_7: ┤4             ├┤4             ├┤4             ├┤4             ├»\n",
       "«      │              ││              ││              ││              │»\n",
       "« q_8: ┤5             ├┤5             ├┤5             ├┤5             ├»\n",
       "«      │              ││              ││              ││              │»\n",
       "« q_9: ┤6             ├┤6             ├┤6             ├┤6             ├»\n",
       "«      └──────────────┘└──────────────┘└──────────────┘└──────────────┘»\n",
       "«q_10: ────────────────────────────────────────────────────────────────»\n",
       "«                                                                      »\n",
       "«                                                      ┌───────┐»\n",
       "« q_0: ────────────────────────────────────────────────┤0      ├»\n",
       "«                                                      │       │»\n",
       "« q_1: ────────────────────────────────────────────────┤1      ├»\n",
       "«                                                      │  IQFT │»\n",
       "« q_2: ────────────────────────────────────────────────┤2      ├»\n",
       "«      ┌──────────────┐┌──────────────┐┌──────────────┐│       │»\n",
       "« q_3: ┤0             ├┤0             ├┤0             ├┤3      ├»\n",
       "«      │              ││              ││              │└───────┘»\n",
       "« q_4: ┤1             ├┤1             ├┤1             ├─────────»\n",
       "«      │              ││              ││              │         »\n",
       "« q_5: ┤2             ├┤2             ├┤2             ├─────────»\n",
       "«      │              ││              ││              │         »\n",
       "« q_6: ┤3 c_ ONE STEP ├┤3 c_ ONE STEP ├┤3 c_ ONE STEP ├─────────»\n",
       "«      │              ││              ││              │         »\n",
       "« q_7: ┤4             ├┤4             ├┤4             ├─────────»\n",
       "«      │              ││              ││              │         »\n",
       "« q_8: ┤5             ├┤5             ├┤5             ├─────────»\n",
       "«      │              ││              ││              │         »\n",
       "« q_9: ┤6             ├┤6             ├┤6             ├─────────»\n",
       "«      └──────────────┘└──────────────┘└──────────────┘         »\n",
       "«q_10: ─────────────────────────────────────────────────────────»\n",
       "«                                                               »\n",
       "«      ┌───────────────────┐┌──────┐                                      »\n",
       "« q_0: ┤0                  ├┤0     ├──────────────────────────────────────»\n",
       "«      │                   ││      │                                      »\n",
       "« q_1: ┤1                  ├┤1     ├──────────────────────────────────────»\n",
       "«      │                   ││  QFT │                                      »\n",
       "« q_2: ┤2                  ├┤2     ├──────────────────────────────────────»\n",
       "«      │                   ││      │┌─────────────────┐┌─────────────────┐»\n",
       "« q_3: ┤3                  ├┤3     ├┤0                ├┤0                ├»\n",
       "«      │                   │└──────┘│                 ││                 │»\n",
       "« q_4: ┤                   ├────────┤1                ├┤1                ├»\n",
       "«      │                   │        │                 ││                 │»\n",
       "« q_5: ┤   mark auxiliary  ├────────┤2                ├┤2                ├»\n",
       "«      │                   │        │                 ││                 │»\n",
       "« q_6: ┤                   ├────────┤3 c_ ONE STEP_dg ├┤3 c_ ONE STEP_dg ├»\n",
       "«      │                   │        │                 ││                 │»\n",
       "« q_7: ┤                   ├────────┤4                ├┤4                ├»\n",
       "«      │                   │        │                 ││                 │»\n",
       "« q_8: ┤                   ├────────┤5                ├┤5                ├»\n",
       "«      │                   │        │                 ││                 │»\n",
       "« q_9: ┤                   ├────────┤6                ├┤6                ├»\n",
       "«      │                   │        └─────────────────┘└─────────────────┘»\n",
       "«q_10: ┤4                  ├──────────────────────────────────────────────»\n",
       "«      └───────────────────┘                                              »\n",
       "«                                                               »\n",
       "« q_0: ─────────────────────────────────────────────────────────»\n",
       "«                                                               »\n",
       "« q_1: ─────────────────────────────────────────────────────────»\n",
       "«                                                               »\n",
       "« q_2: ─────────────────────────────────────────────────────────»\n",
       "«      ┌─────────────────┐┌─────────────────┐┌─────────────────┐»\n",
       "« q_3: ┤0                ├┤0                ├┤0                ├»\n",
       "«      │                 ││                 ││                 │»\n",
       "« q_4: ┤1                ├┤1                ├┤1                ├»\n",
       "«      │                 ││                 ││                 │»\n",
       "« q_5: ┤2                ├┤2                ├┤2                ├»\n",
       "«      │                 ││                 ││                 │»\n",
       "« q_6: ┤3 c_ ONE STEP_dg ├┤3 c_ ONE STEP_dg ├┤3 c_ ONE STEP_dg ├»\n",
       "«      │                 ││                 ││                 │»\n",
       "« q_7: ┤4                ├┤4                ├┤4                ├»\n",
       "«      │                 ││                 ││                 │»\n",
       "« q_8: ┤5                ├┤5                ├┤5                ├»\n",
       "«      │                 ││                 ││                 │»\n",
       "« q_9: ┤6                ├┤6                ├┤6                ├»\n",
       "«      └─────────────────┘└─────────────────┘└─────────────────┘»\n",
       "«q_10: ─────────────────────────────────────────────────────────»\n",
       "«                                                               »\n",
       "«                                                               »\n",
       "« q_0: ─────────────────────────────────────────────────────────»\n",
       "«                                                               »\n",
       "« q_1: ─────────────────────────────────────────────────────────»\n",
       "«                                                               »\n",
       "« q_2: ─────────────────────────────────────────────────────────»\n",
       "«      ┌─────────────────┐┌─────────────────┐┌─────────────────┐»\n",
       "« q_3: ┤0                ├┤0                ├┤0                ├»\n",
       "«      │                 ││                 ││                 │»\n",
       "« q_4: ┤1                ├┤1                ├┤1                ├»\n",
       "«      │                 ││                 ││                 │»\n",
       "« q_5: ┤2                ├┤2                ├┤2                ├»\n",
       "«      │                 ││                 ││                 │»\n",
       "« q_6: ┤3 c_ ONE STEP_dg ├┤3 c_ ONE STEP_dg ├┤3 c_ ONE STEP_dg ├»\n",
       "«      │                 ││                 ││                 │»\n",
       "« q_7: ┤4                ├┤4                ├┤4                ├»\n",
       "«      │                 ││                 ││                 │»\n",
       "« q_8: ┤5                ├┤5                ├┤5                ├»\n",
       "«      │                 ││                 ││                 │»\n",
       "« q_9: ┤6                ├┤6                ├┤6                ├»\n",
       "«      └─────────────────┘└─────────────────┘└─────────────────┘»\n",
       "«q_10: ─────────────────────────────────────────────────────────»\n",
       "«                                                               »\n",
       "«                                                               »\n",
       "« q_0: ─────────────────────────────────────────────────────────»\n",
       "«                                                               »\n",
       "« q_1: ─────────────────────────────────────────────────────────»\n",
       "«      ┌─────────────────┐┌─────────────────┐┌─────────────────┐»\n",
       "« q_2: ┤0                ├┤0                ├┤0                ├»\n",
       "«      │                 ││                 ││                 │»\n",
       "« q_3: ┤                 ├┤                 ├┤                 ├»\n",
       "«      │                 ││                 ││                 │»\n",
       "« q_4: ┤1                ├┤1                ├┤1                ├»\n",
       "«      │                 ││                 ││                 │»\n",
       "« q_5: ┤2                ├┤2                ├┤2                ├»\n",
       "«      │  c_ ONE STEP_dg ││  c_ ONE STEP_dg ││  c_ ONE STEP_dg │»\n",
       "« q_6: ┤3                ├┤3                ├┤3                ├»\n",
       "«      │                 ││                 ││                 │»\n",
       "« q_7: ┤4                ├┤4                ├┤4                ├»\n",
       "«      │                 ││                 ││                 │»\n",
       "« q_8: ┤5                ├┤5                ├┤5                ├»\n",
       "«      │                 ││                 ││                 │»\n",
       "« q_9: ┤6                ├┤6                ├┤6                ├»\n",
       "«      └─────────────────┘└─────────────────┘└─────────────────┘»\n",
       "«q_10: ─────────────────────────────────────────────────────────»\n",
       "«                                                               »\n",
       "«                                                               »\n",
       "« q_0: ─────────────────────────────────────────────────────────»\n",
       "«                         ┌─────────────────┐┌─────────────────┐»\n",
       "« q_1: ───────────────────┤0                ├┤0                ├»\n",
       "«      ┌─────────────────┐│                 ││                 │»\n",
       "« q_2: ┤0                ├┤                 ├┤                 ├»\n",
       "«      │                 ││                 ││                 │»\n",
       "« q_3: ┤                 ├┤                 ├┤                 ├»\n",
       "«      │                 ││                 ││                 │»\n",
       "« q_4: ┤1                ├┤1                ├┤1                ├»\n",
       "«      │                 ││                 ││                 │»\n",
       "« q_5: ┤2                ├┤2 c_ ONE STEP_dg ├┤2 c_ ONE STEP_dg ├»\n",
       "«      │  c_ ONE STEP_dg ││                 ││                 │»\n",
       "« q_6: ┤3                ├┤3                ├┤3                ├»\n",
       "«      │                 ││                 ││                 │»\n",
       "« q_7: ┤4                ├┤4                ├┤4                ├»\n",
       "«      │                 ││                 ││                 │»\n",
       "« q_8: ┤5                ├┤5                ├┤5                ├»\n",
       "«      │                 ││                 ││                 │»\n",
       "« q_9: ┤6                ├┤6                ├┤6                ├»\n",
       "«      └─────────────────┘└─────────────────┘└─────────────────┘»\n",
       "«q_10: ─────────────────────────────────────────────────────────»\n",
       "«                                                               »\n",
       "«      ┌─────────────────┐ ░ ┌───┐\n",
       "« q_0: ┤0                ├─░─┤ H ├\n",
       "«      │                 │ ░ ├───┤\n",
       "« q_1: ┤                 ├─░─┤ H ├\n",
       "«      │                 │ ░ ├───┤\n",
       "« q_2: ┤                 ├─░─┤ H ├\n",
       "«      │                 │ ░ ├───┤\n",
       "« q_3: ┤                 ├─░─┤ H ├\n",
       "«      │                 │ ░ └───┘\n",
       "« q_4: ┤1                ├─░──────\n",
       "«      │  c_ ONE STEP_dg │ ░      \n",
       "« q_5: ┤2                ├─░──────\n",
       "«      │                 │ ░      \n",
       "« q_6: ┤3                ├─░──────\n",
       "«      │                 │ ░      \n",
       "« q_7: ┤4                ├─░──────\n",
       "«      │                 │ ░      \n",
       "« q_8: ┤5                ├─░──────\n",
       "«      │                 │ ░      \n",
       "« q_9: ┤6                ├─░──────\n",
       "«      └─────────────────┘ ░      \n",
       "«q_10: ───────────────────────────\n",
       "«                                 "
      ]
     },
     "execution_count": 44,
     "metadata": {},
     "output_type": "execute_result"
    }
   ],
   "source": [
    "# Phase estimation\n",
    "phase_estimation_circuit = QuantumCircuit(11, name=' phase estimation ')\n",
    "phase_estimation_circuit.h([0,1,2,3])\n",
    "for i in range(0,4):\n",
    "    stop = 2**i\n",
    "    for j in range(0,stop):\n",
    "        phase_estimation_circuit.append(cont_one_step, [i,4,5,6,7,8,9])\n",
    "\n",
    "# Inverse fourier transform\n",
    "phase_estimation_circuit.append(inv_qft_gate, [0,1,2,3])\n",
    "\n",
    "# Mark all angles theta that are not 0 with an auxiliary qubit\n",
    "phase_estimation_circuit.append(mark_auxiliary_gate, [0,1,2,3,10])\n",
    "\n",
    "# Reverse phase estimation\n",
    "phase_estimation_circuit.append(qft_gate, [0,1,2,3])   \n",
    "\n",
    "for i in range(3,-1,-1):\n",
    "    stop = 2**i\n",
    "    for j in range(0,stop):\n",
    "        phase_estimation_circuit.append(inv_cont_one_step, [i,4,5,6,7,8,9])\n",
    "phase_estimation_circuit.barrier(range(0,10))\n",
    "phase_estimation_circuit.h([0,1,2,3])\n",
    "\n",
    "# Make phase estimation gate\n",
    "phase_estimation_gate = phase_estimation_circuit.to_instruction()\n",
    "phase_estimation_circuit.draw() "
   ]
  },
  {
   "cell_type": "markdown",
   "id": "c56b9707",
   "metadata": {},
   "source": [
    "Now, let's delve into the complete quantum walk search algorithm. We initiate the process by implementing Hadamard gates on both the node and coin qubits. Subsequently, we proceed with the iterative application of the phase oracle gate and the phase estimation gate"
   ]
  },
  {
   "cell_type": "code",
   "execution_count": 45,
   "id": "a6bce151",
   "metadata": {},
   "outputs": [
    {
     "data": {
      "text/html": [
       "<pre style=\"word-wrap: normal;white-space: pre;background: #fff0;line-height: 1.1;font-family: &quot;Courier New&quot;,Courier,monospace\">                                   ┌──────────────────────┐                   »\n",
       "  theta_0: ────────────────────────┤0                     ├───────────────────»\n",
       "                                   │                      │                   »\n",
       "  theta_1: ────────────────────────┤1                     ├───────────────────»\n",
       "                                   │                      │                   »\n",
       "  theta_2: ────────────────────────┤2                     ├───────────────────»\n",
       "                                   │                      │                   »\n",
       "  theta_3: ────────────────────────┤3                     ├───────────────────»\n",
       "           ┌───┐┌─────────────────┐│                      │┌─────────────────┐»\n",
       "   node_0: ┤ H ├┤0                ├┤4                     ├┤0                ├»\n",
       "           ├───┤│                 ││                      ││                 │»\n",
       "   node_1: ┤ H ├┤1                ├┤5   phase estimation  ├┤1                ├»\n",
       "           ├───┤│                 ││                      ││                 │»\n",
       "   node_2: ┤ H ├┤2                ├┤6                     ├┤2                ├»\n",
       "           ├───┤│   phase oracle  ││                      ││   phase oracle  │»\n",
       "   node_3: ┤ H ├┤3                ├┤7                     ├┤3                ├»\n",
       "           ├───┤│                 ││                      ││                 │»\n",
       "   coin_0: ┤ H ├┤4                ├┤8                     ├┤4                ├»\n",
       "           ├───┤│                 ││                      ││                 │»\n",
       "   coin_1: ┤ H ├┤5                ├┤9                     ├┤5                ├»\n",
       "           └───┘└─────────────────┘│                      │└─────────────────┘»\n",
       "auxiliary: ────────────────────────┤10                    ├───────────────────»\n",
       "                                   └──────────────────────┘                   »\n",
       "      c: 4/═══════════════════════════════════════════════════════════════════»\n",
       "                                                                              »\n",
       "«           ┌──────────────────────┐            \n",
       "«  theta_0: ┤0                     ├────────────\n",
       "«           │                      │            \n",
       "«  theta_1: ┤1                     ├────────────\n",
       "«           │                      │            \n",
       "«  theta_2: ┤2                     ├────────────\n",
       "«           │                      │            \n",
       "«  theta_3: ┤3                     ├────────────\n",
       "«           │                      │┌─┐         \n",
       "«   node_0: ┤4                     ├┤M├─────────\n",
       "«           │                      │└╥┘┌─┐      \n",
       "«   node_1: ┤5   phase estimation  ├─╫─┤M├──────\n",
       "«           │                      │ ║ └╥┘┌─┐   \n",
       "«   node_2: ┤6                     ├─╫──╫─┤M├───\n",
       "«           │                      │ ║  ║ └╥┘┌─┐\n",
       "«   node_3: ┤7                     ├─╫──╫──╫─┤M├\n",
       "«           │                      │ ║  ║  ║ └╥┘\n",
       "«   coin_0: ┤8                     ├─╫──╫──╫──╫─\n",
       "«           │                      │ ║  ║  ║  ║ \n",
       "«   coin_1: ┤9                     ├─╫──╫──╫──╫─\n",
       "«           │                      │ ║  ║  ║  ║ \n",
       "«auxiliary: ┤10                    ├─╫──╫──╫──╫─\n",
       "«           └──────────────────────┘ ║  ║  ║  ║ \n",
       "«      c: 4/═════════════════════════╩══╩══╩══╩═\n",
       "«                                    0  1  2  3 </pre>"
      ],
      "text/plain": [
       "                                   ┌──────────────────────┐                   »\n",
       "  theta_0: ────────────────────────┤0                     ├───────────────────»\n",
       "                                   │                      │                   »\n",
       "  theta_1: ────────────────────────┤1                     ├───────────────────»\n",
       "                                   │                      │                   »\n",
       "  theta_2: ────────────────────────┤2                     ├───────────────────»\n",
       "                                   │                      │                   »\n",
       "  theta_3: ────────────────────────┤3                     ├───────────────────»\n",
       "           ┌───┐┌─────────────────┐│                      │┌─────────────────┐»\n",
       "   node_0: ┤ H ├┤0                ├┤4                     ├┤0                ├»\n",
       "           ├───┤│                 ││                      ││                 │»\n",
       "   node_1: ┤ H ├┤1                ├┤5   phase estimation  ├┤1                ├»\n",
       "           ├───┤│                 ││                      ││                 │»\n",
       "   node_2: ┤ H ├┤2                ├┤6                     ├┤2                ├»\n",
       "           ├───┤│   phase oracle  ││                      ││   phase oracle  │»\n",
       "   node_3: ┤ H ├┤3                ├┤7                     ├┤3                ├»\n",
       "           ├───┤│                 ││                      ││                 │»\n",
       "   coin_0: ┤ H ├┤4                ├┤8                     ├┤4                ├»\n",
       "           ├───┤│                 ││                      ││                 │»\n",
       "   coin_1: ┤ H ├┤5                ├┤9                     ├┤5                ├»\n",
       "           └───┘└─────────────────┘│                      │└─────────────────┘»\n",
       "auxiliary: ────────────────────────┤10                    ├───────────────────»\n",
       "                                   └──────────────────────┘                   »\n",
       "      c: 4/═══════════════════════════════════════════════════════════════════»\n",
       "                                                                              »\n",
       "«           ┌──────────────────────┐            \n",
       "«  theta_0: ┤0                     ├────────────\n",
       "«           │                      │            \n",
       "«  theta_1: ┤1                     ├────────────\n",
       "«           │                      │            \n",
       "«  theta_2: ┤2                     ├────────────\n",
       "«           │                      │            \n",
       "«  theta_3: ┤3                     ├────────────\n",
       "«           │                      │┌─┐         \n",
       "«   node_0: ┤4                     ├┤M├─────────\n",
       "«           │                      │└╥┘┌─┐      \n",
       "«   node_1: ┤5   phase estimation  ├─╫─┤M├──────\n",
       "«           │                      │ ║ └╥┘┌─┐   \n",
       "«   node_2: ┤6                     ├─╫──╫─┤M├───\n",
       "«           │                      │ ║  ║ └╥┘┌─┐\n",
       "«   node_3: ┤7                     ├─╫──╫──╫─┤M├\n",
       "«           │                      │ ║  ║  ║ └╥┘\n",
       "«   coin_0: ┤8                     ├─╫──╫──╫──╫─\n",
       "«           │                      │ ║  ║  ║  ║ \n",
       "«   coin_1: ┤9                     ├─╫──╫──╫──╫─\n",
       "«           │                      │ ║  ║  ║  ║ \n",
       "«auxiliary: ┤10                    ├─╫──╫──╫──╫─\n",
       "«           └──────────────────────┘ ║  ║  ║  ║ \n",
       "«      c: 4/═════════════════════════╩══╩══╩══╩═\n",
       "«                                    0  1  2  3 "
      ]
     },
     "execution_count": 45,
     "metadata": {},
     "output_type": "execute_result"
    }
   ],
   "source": [
    "# Implementation of the full quantum walk search algorithm\n",
    "theta_q = QuantumRegister(4, 'theta')\n",
    "node_q = QuantumRegister(4, 'node')\n",
    "coin_q = QuantumRegister(2, 'coin')\n",
    "auxiliary_q = QuantumRegister(1, 'auxiliary')\n",
    "creg_c2 = ClassicalRegister(4, 'c')\n",
    "circuit = QuantumCircuit(theta_q, node_q, coin_q, auxiliary_q, creg_c2)\n",
    "# Apply Hadamard gates to the qubits that represent the nodes and the coin\n",
    "circuit.h([4,5,6,7,8,9])\n",
    "iterations = 2\n",
    "\n",
    "for i in range(0,iterations):\n",
    "    circuit.append(phase_oracle_gate, [4,5,6,7,8,9])\n",
    "    circuit.append(phase_estimation_gate, [0,1,2,3,4,5,6,7,8,9,10])\n",
    "\n",
    "circuit.measure(node_q[0], creg_c2[0])\n",
    "circuit.measure(node_q[1], creg_c2[1])\n",
    "circuit.measure(node_q[2], creg_c2[2])\n",
    "circuit.measure(node_q[3], creg_c2[3])\n",
    "circuit.draw()"
   ]
  },
  {
   "cell_type": "markdown",
   "id": "7389b1c7",
   "metadata": {},
   "source": [
    "Ultimately, the implementation is executed on the QASM simulator. It is observed that the circuit predominantly collapses to the marked states in a clear majority of instances."
   ]
  },
  {
   "cell_type": "code",
   "execution_count": null,
   "id": "799e737c",
   "metadata": {},
   "outputs": [],
   "source": [
    "from qiskit import Aer, execute\n",
    "from qiskit.visualization import plot_histogram\n",
    "\n",
    "backend = Aer.get_backend('qasm_simulator') \n",
    "\n",
    "# Assuming 'circuit' is defined before this line\n",
    "job = execute(circuit, backend, shots=1024) \n",
    "\n",
    "hist = job.result().get_counts() \n",
    "plot_histogram(hist)"
   ]
  },
  {
   "cell_type": "markdown",
   "id": "11233428",
   "metadata": {},
   "source": [
    "The above code will provide you with the probabilities of all the 16 states, and you will simultaneously observe that the probabilities of the marked states are exceptionally larger than the others."
   ]
  },
  {
   "cell_type": "markdown",
   "id": "af1cc918",
   "metadata": {},
   "source": [
    "This code is not working because I don't have an IBMQ account. You will be able to fetch the histogram from the above code once you have your IBMQ account."
   ]
  },
  {
   "cell_type": "code",
   "execution_count": null,
   "id": "c997877a",
   "metadata": {},
   "outputs": [],
   "source": []
  }
 ],
 "metadata": {
  "kernelspec": {
   "display_name": "Python 3 (ipykernel)",
   "language": "python",
   "name": "python3"
  },
  "language_info": {
   "codemirror_mode": {
    "name": "ipython",
    "version": 3
   },
   "file_extension": ".py",
   "mimetype": "text/x-python",
   "name": "python",
   "nbconvert_exporter": "python",
   "pygments_lexer": "ipython3",
   "version": "3.10.6"
  }
 },
 "nbformat": 4,
 "nbformat_minor": 5
}
